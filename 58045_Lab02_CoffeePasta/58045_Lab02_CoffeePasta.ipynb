{
  "nbformat": 4,
  "nbformat_minor": 0,
  "metadata": {
    "colab": {
      "name": "58045_Lab02_CoffeePasta.ipynb",
      "provenance": [],
      "collapsed_sections": [],
      "include_colab_link": true
    },
    "kernelspec": {
      "name": "python3",
      "display_name": "Python 3"
    },
    "language_info": {
      "name": "python"
    }
  },
  "cells": [
    {
      "cell_type": "markdown",
      "metadata": {
        "id": "view-in-github",
        "colab_type": "text"
      },
      "source": [
        "<a href=\"https://colab.research.google.com/github/DeanAdrian/DSP-Lab/blob/main/58045_Lab02_CoffeePasta/58045_Lab02_CoffeePasta.ipynb\" target=\"_parent\"><img src=\"https://colab.research.google.com/assets/colab-badge.svg\" alt=\"Open In Colab\"/></a>"
      ]
    },
    {
      "cell_type": "markdown",
      "source": [
        "## Importing the package"
      ],
      "metadata": {
        "id": "HV3loA0Eq1kJ"
      }
    },
    {
      "cell_type": "markdown",
      "source": [
        "### Cloning Github Repository\n",
        "\n",
        "In order to use the created siggenpy package in Google Collaboratory, the first step is to clone the Github repo wherein the py file is uploaded."
      ],
      "metadata": {
        "id": "1_uX0BBMrEQ_"
      }
    },
    {
      "cell_type": "code",
      "source": [
        "!git clone https://github.com/DeanAdrian/siggenpy.git"
      ],
      "metadata": {
        "colab": {
          "base_uri": "https://localhost:8080/"
        },
        "id": "7IpehQqT4Oss",
        "outputId": "13c5dafc-9722-4b4a-e23a-4516923e89fc"
      },
      "execution_count": 1,
      "outputs": [
        {
          "output_type": "stream",
          "name": "stdout",
          "text": [
            "Cloning into 'siggenpy'...\n",
            "remote: Enumerating objects: 6, done.\u001b[K\n",
            "remote: Counting objects: 100% (6/6), done.\u001b[K\n",
            "remote: Compressing objects: 100% (4/4), done.\u001b[K\n",
            "remote: Total 6 (delta 1), reused 0 (delta 0), pack-reused 0\u001b[K\n",
            "Unpacking objects: 100% (6/6), done.\n"
          ]
        }
      ]
    },
    {
      "cell_type": "markdown",
      "source": [
        "### Appending the system path\n",
        "\n",
        "Appending the system file path is necessary in order to properly import the DiscreteTime module and use its different functions."
      ],
      "metadata": {
        "id": "Gs5d4R3Pq6bB"
      }
    },
    {
      "cell_type": "code",
      "source": [
        "import sys\n",
        "sys.path.append('/content/siggenpy')"
      ],
      "metadata": {
        "id": "gXso_-Oti811"
      },
      "execution_count": 2,
      "outputs": []
    },
    {
      "cell_type": "markdown",
      "source": [
        "### Importing"
      ],
      "metadata": {
        "id": "3rze2rO8rAjo"
      }
    },
    {
      "cell_type": "code",
      "source": [
        "from discrete_time import DiscreteTime"
      ],
      "metadata": {
        "id": "_qbsjvQ5gmvw"
      },
      "execution_count": 3,
      "outputs": []
    },
    {
      "cell_type": "markdown",
      "source": [
        "## Using the package\n",
        "\n",
        "The package created here contains the following functions:\n",
        "\n",
        "\n",
        "Plot eight different signals namely:\n",
        "*   Impulse Signal\n",
        "*   Unit-Step Signal\n",
        "*   Ramp Signal\n",
        "*   Exponential Decay Signal\n",
        "*   Exponential Growth Signal\n",
        "*   Leaky Relu Signal\n",
        "*   ELU Signal\n",
        "*   Sigmoid Signal\n",
        "\n",
        "Other than plotting the signals it can also output each tick value of the signals in an array for a numeric view of how the value of the signal changes.\n",
        "\n"
      ],
      "metadata": {
        "id": "RRC6Va4qrLYw"
      }
    },
    {
      "cell_type": "markdown",
      "source": [
        "### Plotting the Signals in Stem Plots\n",
        "\n",
        "When using this package for plotting the different signals, the main function to be called is the \"plot_signal\" function. This function takes the follwoing parameters in order: The type of signal to be plotted, the minimum and maximum value of the X-axis and the alpha value for the signal if needed. Default value of 0.5 is set for alpha if not given by the user, while the other parameters are required."
      ],
      "metadata": {
        "id": "7oBY8Xui7R6Q"
      }
    },
    {
      "cell_type": "code",
      "source": [
        "dt = DiscreteTime()"
      ],
      "metadata": {
        "id": "QzHJHoGZ-FRt"
      },
      "execution_count": 4,
      "outputs": []
    },
    {
      "cell_type": "markdown",
      "source": [
        "#### Impulse Signal\n",
        "\n",
        "Only at time zero does a signal have infinite magnitude. As you can see in the figure, we may infer it's a lightning pulse that lasts a brief time and has an infinite voltage magnitude. In other words, its derivative narrows and widens, eventually resulting in a pulse of infinite width and infinite height.\n",
        "Impulse Signal computation assuming that $a < b$ \n",
        "\n",
        "\n",
        "$$\\int_{a}^b \\delta (t - λ) \\cdot f(t)dt = \\begin{cases} f (\\lambda), \\ \\ a < λ <b \\\\ 0, \\ \\ otherwise\n",
        "\\end{cases}$$"
      ],
      "metadata": {
        "id": "_cejQ8OGEHFI"
      }
    },
    {
      "cell_type": "code",
      "source": [
        "dt.plot_signal(\"impulse\", -10,10)"
      ],
      "metadata": {
        "colab": {
          "base_uri": "https://localhost:8080/",
          "height": 350
        },
        "id": "MantJC2IbONr",
        "outputId": "4e2372df-6c89-40fc-ba9a-cd4516b2b21f"
      },
      "execution_count": 5,
      "outputs": [
        {
          "output_type": "display_data",
          "data": {
            "image/png": "[encoded data removed]",
            "text/plain": [
              "<Figure size 576x360 with 1 Axes>"
            ]
          },
          "metadata": {
            "needs_background": "light"
          }
        }
      ]
    },
    {
      "cell_type": "markdown",
      "source": [
        "#### Unit Step Signal\n",
        "\n",
        "The unit step signal is a signal that is only present for positive values and outputs 0 for negative values. The unit step signal outputs all 1 values for positive and 0 values for negative.\n",
        "\n",
        "Essentially Unit step looks to satisfy these two conditions. Mathematically it can be represented as:\n",
        "\n",
        "$$X(t) = 1 \\ (when \\ t \\geq 0 ) \\\\ and \\\\ X(t) = 0 \\ (when \\ t < 0 )$$ "
      ],
      "metadata": {
        "id": "v8Tr3hrJEIzS"
      }
    },
    {
      "cell_type": "code",
      "source": [
        "dt.plot_signal(\"unit step\", -10,10)"
      ],
      "metadata": {
        "colab": {
          "base_uri": "https://localhost:8080/",
          "height": 350
        },
        "id": "rHEwJVWsbTNX",
        "outputId": "8c5f8b6d-cb3e-40b6-e18c-bcfd36addc9d"
      },
      "execution_count": 6,
      "outputs": [
        {
          "output_type": "display_data",
          "data": {
            "image/png": "[encoded data removed]",
            "text/plain": [
              "<Figure size 576x360 with 1 Axes>"
            ]
          },
          "metadata": {
            "needs_background": "light"
          }
        }
      ]
    },
    {
      "cell_type": "markdown",
      "source": [
        "#### Ramp Signal\n",
        "The figure above shows the Ramp Signal, it is a unary real function. As we can see in the figure, it is called a ramp signal because the graph of it is shaped like a ramp. This signal outputs 0 if the value of n is less than 0 and outputs the value of n if it is greater than 0. The computation for ramp signal is as follows:\n",
        "\n",
        "\n",
        "$$x(n) = n\\cdot (u(n)) \\ and \\begin{cases} n \\text{ if } n\\geq 0 \\\\\n",
        "0 \\text{ if } n< 0\n",
        "\\end{cases}$$\n",
        "\n",
        "Wherein $n$ is the slope of the signal anf $u(n)$ translate to the unit-step of the signal. "
      ],
      "metadata": {
        "id": "VGgL-GMZEK4f"
      }
    },
    {
      "cell_type": "code",
      "source": [
        "dt.plot_signal(\"ramp\", -10,10)"
      ],
      "metadata": {
        "colab": {
          "base_uri": "https://localhost:8080/",
          "height": 350
        },
        "id": "oUyXThOabV6i",
        "outputId": "ce6ead71-d369-4ec8-8c14-75649be25cf6"
      },
      "execution_count": 7,
      "outputs": [
        {
          "output_type": "display_data",
          "data": {
            "image/png": "[encoded data removed]",
            "text/plain": [
              "<Figure size 576x360 with 1 Axes>"
            ]
          },
          "metadata": {
            "needs_background": "light"
          }
        }
      ]
    },
    {
      "cell_type": "markdown",
      "source": [
        "#### Exponential Decay Signal\n",
        "Exponential decay allows the signal or graph to characterize continuous and significant declining in value thus emphasizing the behavior of significant downward slope of a line. Exponential decay is calculate by: alpha value raised to the value of n multiplied to unit-step. The mathemathical equation of this is shown below.\n",
        "\n",
        "$$Exponential \\ Decay = α^n *(u(n))$$"
      ],
      "metadata": {
        "id": "0W21Ykv-EMT0"
      }
    },
    {
      "cell_type": "code",
      "source": [
        "dt.plot_signal(\"exponential decay\", -10,10)"
      ],
      "metadata": {
        "colab": {
          "base_uri": "https://localhost:8080/",
          "height": 350
        },
        "id": "phar6q-9bYDQ",
        "outputId": "676ae443-8ba2-40ba-b206-b6031747a02c"
      },
      "execution_count": 8,
      "outputs": [
        {
          "output_type": "display_data",
          "data": {
            "image/png": "[encoded data removed]",
            "text/plain": [
              "<Figure size 576x360 with 1 Axes>"
            ]
          },
          "metadata": {
            "needs_background": "light"
          }
        }
      ]
    },
    {
      "cell_type": "markdown",
      "source": [
        "#### Exponential Growth Signal\n",
        "Exponential growth signals takes a complete opposite from decay wherein the graph or line dramatically increases in value thus characterizing an significant upward slope of the line. The formula for exponential growth also olso does the opposite of exponential decay, wherein exponential decay raises the alpha value to the value of n, exponential growth raises the value of n to alpha.\n",
        "\n",
        "$$Exponential \\  Growth = n^α *(u(n))$$"
      ],
      "metadata": {
        "id": "TI-Jr3s7EOUw"
      }
    },
    {
      "cell_type": "code",
      "source": [
        "dt.plot_signal(\"exponential growth\",-10,10)"
      ],
      "metadata": {
        "colab": {
          "base_uri": "https://localhost:8080/",
          "height": 350
        },
        "id": "caP6C5rzbap5",
        "outputId": "f5b35dba-b978-4774-a6d7-fe25efd09334"
      },
      "execution_count": 9,
      "outputs": [
        {
          "output_type": "display_data",
          "data": {
            "image/png": "[encoded data removed]",
            "text/plain": [
              "<Figure size 576x360 with 1 Axes>"
            ]
          },
          "metadata": {
            "needs_background": "light"
          }
        }
      ]
    },
    {
      "cell_type": "markdown",
      "source": [
        "#### Leaky Relu\n",
        "\n",
        "Leaky Relu is a form of activtion function that is based on ReLU (Rectified Linear Unit), the difference is that Leaky ReLU has a small slope for negative values while ReLU contains a flat slope.\n",
        "The function can be computed as:\n",
        "\n",
        "$$f(x)= 1(x < 0) (\\alpha x) + 1(x >=0)(x) $$"
      ],
      "metadata": {
        "id": "N4hJcN6L9RLv"
      }
    },
    {
      "cell_type": "code",
      "source": [
        "dt.plot_signal(\"leaky relu\", -7,7,0.1)"
      ],
      "metadata": {
        "colab": {
          "base_uri": "https://localhost:8080/",
          "height": 350
        },
        "id": "H7C2O-6lbc3y",
        "outputId": "f159a95b-5bc7-4754-edd1-465d4f92a0f0"
      },
      "execution_count": 10,
      "outputs": [
        {
          "output_type": "display_data",
          "data": {
            "image/png": "[encoded data removed]",
            "text/plain": [
              "<Figure size 576x360 with 1 Axes>"
            ]
          },
          "metadata": {
            "needs_background": "light"
          }
        }
      ]
    },
    {
      "cell_type": "markdown",
      "source": [
        "#### ELU\n",
        "\n",
        "Exponential Linear Unit or ELU for short is an activation function that is similar to ReLU but converges to zero in a faster manner. As can be seen in the two different figures above and below. \n",
        "\n",
        "The Formula for ELU is:\n",
        "\n",
        "$$ELU'(x) = \\left\\{ \\begin{array}\\\\ 1 & if \\ x > 0 \\\\ ELU(x) + \\alpha & if \\ x \\leq 0\\end{array}\\right\\}$$"
      ],
      "metadata": {
        "id": "Y7axnufO_3o2"
      }
    },
    {
      "cell_type": "code",
      "source": [
        "dt.plot_signal(\"eLU\", -10,10)"
      ],
      "metadata": {
        "colab": {
          "base_uri": "https://localhost:8080/",
          "height": 350
        },
        "id": "mXRlyZyQblX8",
        "outputId": "c93e2adf-779e-4219-b781-2afb7c663e38"
      },
      "execution_count": 11,
      "outputs": [
        {
          "output_type": "display_data",
          "data": {
            "image/png": "[encoded data removed]",
            "text/plain": [
              "<Figure size 576x360 with 1 Axes>"
            ]
          },
          "metadata": {
            "needs_background": "light"
          }
        }
      ]
    },
    {
      "cell_type": "markdown",
      "source": [
        "#### Sigmoid Signal\n",
        "\n",
        "The figure below shows the Sigmoid Signal. The input signals are mapped between 0 and 1. With a sigmoid signal, the values mapped in the figure are similar to a logistic curve. The computation for the ticks in this signal is as follows:\n",
        "\n",
        "$$Sigmoid(x) = \\frac{1}{1+e^{-x}} $$"
      ],
      "metadata": {
        "id": "RRjIR7E6ERSZ"
      }
    },
    {
      "cell_type": "code",
      "source": [
        "dt.plot_signal(\"sigmoid\", -10,10)"
      ],
      "metadata": {
        "colab": {
          "base_uri": "https://localhost:8080/",
          "height": 350
        },
        "id": "DTaWPxYLb9RQ",
        "outputId": "9794184f-c93a-4d36-f0f0-ad01ffdb9621"
      },
      "execution_count": 12,
      "outputs": [
        {
          "output_type": "display_data",
          "data": {
            "image/png": "[encoded data removed]",
            "text/plain": [
              "<Figure size 576x360 with 1 Axes>"
            ]
          },
          "metadata": {
            "needs_background": "light"
          }
        }
      ]
    },
    {
      "cell_type": "markdown",
      "source": [
        "### Showing the signals as arrays\n",
        "\n",
        "Below is the other use of this package wherein the numerical value of each tick in the different signals are displayed as their numerical value. \n",
        "\n",
        "\n",
        "\n",
        "In order to use these functions call the declared variable earlier which in this case is $dt$ followed by a dot$(.)$ then by then the name of the corresponding function of the signal. These functions take the minimum,and maximum value of the x-axis as its parameter, with some signals exponential growth, exponential decay, Leaky ReLU and ELU having an extra parameter for the alpha value. \n",
        "\n",
        "Unlike the previous function for plotting the signals the alpha value for the functions do not have a default value and must be provided by the user."
      ],
      "metadata": {
        "id": "EgvPm2OZ7X2O"
      }
    },
    {
      "cell_type": "markdown",
      "source": [
        "#### Impulse Signal"
      ],
      "metadata": {
        "id": "lqem6ngCDFDb"
      }
    },
    {
      "cell_type": "code",
      "source": [
        "dt.impulse_signal(-10,10)"
      ],
      "metadata": {
        "colab": {
          "base_uri": "https://localhost:8080/"
        },
        "id": "IBU2p-6Ha2YQ",
        "outputId": "edba5c13-dcaf-4cf1-a9a7-09448c127e50"
      },
      "execution_count": 13,
      "outputs": [
        {
          "output_type": "execute_result",
          "data": {
            "text/plain": [
              "array([0., 0., 0., 0., 0., 0., 0., 0., 0., 0., 1., 0., 0., 0., 0., 0., 0.,\n",
              "       0., 0., 0., 0.])"
            ]
          },
          "metadata": {},
          "execution_count": 13
        }
      ]
    },
    {
      "cell_type": "markdown",
      "source": [
        "#### Unit-Step Signal"
      ],
      "metadata": {
        "id": "DyfsAWM3DHFE"
      }
    },
    {
      "cell_type": "code",
      "source": [
        "dt.unit_step(-10,10)"
      ],
      "metadata": {
        "colab": {
          "base_uri": "https://localhost:8080/"
        },
        "id": "BAxkz2ABa5xE",
        "outputId": "354bc77b-f0a1-4948-f08f-addc7edc7118"
      },
      "execution_count": 14,
      "outputs": [
        {
          "output_type": "execute_result",
          "data": {
            "text/plain": [
              "array([0., 0., 0., 0., 0., 0., 0., 0., 0., 0., 1., 1., 1., 1., 1., 1., 1.,\n",
              "       1., 1., 1., 1.])"
            ]
          },
          "metadata": {},
          "execution_count": 14
        }
      ]
    },
    {
      "cell_type": "markdown",
      "source": [
        "#### Ramp Signal"
      ],
      "metadata": {
        "id": "tKLkCjgpDJfG"
      }
    },
    {
      "cell_type": "code",
      "source": [
        "dt.ramp_signal(-10,10)"
      ],
      "metadata": {
        "colab": {
          "base_uri": "https://localhost:8080/"
        },
        "id": "U744btfwa9DL",
        "outputId": "6a97993e-ac9e-47e7-9925-6f0ff4f8e22d"
      },
      "execution_count": 15,
      "outputs": [
        {
          "output_type": "execute_result",
          "data": {
            "text/plain": [
              "array([-0., -0., -0., -0., -0., -0., -0., -0., -0., -0.,  0.,  1.,  2.,\n",
              "        3.,  4.,  5.,  6.,  7.,  8.,  9., 10.])"
            ]
          },
          "metadata": {},
          "execution_count": 15
        }
      ]
    },
    {
      "cell_type": "markdown",
      "source": [
        "#### Exponential Decay Signal"
      ],
      "metadata": {
        "id": "d4s_zHIwDLVX"
      }
    },
    {
      "cell_type": "code",
      "source": [
        "dt.exponential_decay(-10,10,0.5)"
      ],
      "metadata": {
        "colab": {
          "base_uri": "https://localhost:8080/"
        },
        "id": "ZTg2PN1Pa_kE",
        "outputId": "59fa9518-1aa0-456c-ca27-84e15ef2702c"
      },
      "execution_count": 16,
      "outputs": [
        {
          "output_type": "execute_result",
          "data": {
            "text/plain": [
              "array([0.000000e+00, 0.000000e+00, 0.000000e+00, 0.000000e+00,\n",
              "       0.000000e+00, 0.000000e+00, 0.000000e+00, 0.000000e+00,\n",
              "       0.000000e+00, 0.000000e+00, 1.000000e+00, 5.000000e-01,\n",
              "       2.500000e-01, 1.250000e-01, 6.250000e-02, 3.125000e-02,\n",
              "       1.562500e-02, 7.812500e-03, 3.906250e-03, 1.953125e-03,\n",
              "       9.765625e-04])"
            ]
          },
          "metadata": {},
          "execution_count": 16
        }
      ]
    },
    {
      "cell_type": "markdown",
      "source": [
        "#### Exponential Growth Signal"
      ],
      "metadata": {
        "id": "Z-VGwWhHDNuW"
      }
    },
    {
      "cell_type": "code",
      "source": [
        "dt.exponential_growth(-10,10,0.5)"
      ],
      "metadata": {
        "colab": {
          "base_uri": "https://localhost:8080/"
        },
        "id": "I2NhZpcXbB2L",
        "outputId": "38749288-058d-4286-b83c-93325e26706c"
      },
      "execution_count": 17,
      "outputs": [
        {
          "output_type": "execute_result",
          "data": {
            "text/plain": [
              "array([0.        , 0.        , 0.        , 0.        , 0.        ,\n",
              "       0.        , 0.        , 0.        , 0.        , 0.        ,\n",
              "       0.        , 1.        , 1.41421356, 1.73205081, 2.        ,\n",
              "       2.23606798, 2.44948974, 2.64575131, 2.82842712, 3.        ,\n",
              "       3.16227766])"
            ]
          },
          "metadata": {},
          "execution_count": 17
        }
      ]
    },
    {
      "cell_type": "markdown",
      "source": [
        "#### Leaky ReLU Signal"
      ],
      "metadata": {
        "id": "-rDiigNcDQp4"
      }
    },
    {
      "cell_type": "code",
      "source": [
        "dt.leaky_relu(-7,7,0.1)"
      ],
      "metadata": {
        "colab": {
          "base_uri": "https://localhost:8080/"
        },
        "id": "cTLB4QAGbG_t",
        "outputId": "5e5e8de0-1e4d-4f02-e285-f0db2c889988"
      },
      "execution_count": 18,
      "outputs": [
        {
          "output_type": "execute_result",
          "data": {
            "text/plain": [
              "array([-0.7, -0.6, -0.5, -0.4, -0.3, -0.2, -0.1,  0. ,  1. ,  2. ,  3. ,\n",
              "        4. ,  5. ,  6. ,  7. ])"
            ]
          },
          "metadata": {},
          "execution_count": 18
        }
      ]
    },
    {
      "cell_type": "markdown",
      "source": [
        "#### ELU Signal"
      ],
      "metadata": {
        "id": "tVoE2P_EDSC8"
      }
    },
    {
      "cell_type": "code",
      "source": [
        "dt.elu(-10,10,0.5)"
      ],
      "metadata": {
        "colab": {
          "base_uri": "https://localhost:8080/"
        },
        "id": "cGDhDPSbbJU5",
        "outputId": "6e1eba6d-4a6a-466d-9be7-c067550f3f2a"
      },
      "execution_count": 19,
      "outputs": [
        {
          "output_type": "execute_result",
          "data": {
            "text/plain": [
              "array([-0.9999773 , -0.9999383 , -0.99983227, -0.99954406, -0.99876062,\n",
              "       -0.99663103, -0.99084218, -0.97510647, -0.93233236, -0.81606028,\n",
              "        0.        ,  1.        ,  2.        ,  3.        ,  4.        ,\n",
              "        5.        ,  6.        ,  7.        ,  8.        ,  9.        ,\n",
              "       10.        ])"
            ]
          },
          "metadata": {},
          "execution_count": 19
        }
      ]
    },
    {
      "cell_type": "markdown",
      "source": [
        "#### Sigmoid Signal"
      ],
      "metadata": {
        "id": "qrhtwPxoDcOU"
      }
    },
    {
      "cell_type": "code",
      "source": [
        "dt.sigmoid(-10,10)"
      ],
      "metadata": {
        "colab": {
          "base_uri": "https://localhost:8080/"
        },
        "id": "d335-pCZbLyk",
        "outputId": "de26b670-4a8e-40f0-aff7-a7ae4874f9c0"
      },
      "execution_count": 20,
      "outputs": [
        {
          "output_type": "execute_result",
          "data": {
            "text/plain": [
              "array([4.53978687e-05, 1.23394576e-04, 3.35350130e-04, 9.11051194e-04,\n",
              "       2.47262316e-03, 6.69285092e-03, 1.79862100e-02, 4.74258732e-02,\n",
              "       1.19202922e-01, 2.68941421e-01, 5.00000000e-01, 7.31058579e-01,\n",
              "       8.80797078e-01, 9.52574127e-01, 9.82013790e-01, 9.93307149e-01,\n",
              "       9.97527377e-01, 9.99088949e-01, 9.99664650e-01, 9.99876605e-01,\n",
              "       9.99954602e-01])"
            ]
          },
          "metadata": {},
          "execution_count": 20
        }
      ]
    }
  ]
}